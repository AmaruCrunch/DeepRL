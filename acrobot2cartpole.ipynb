{
 "cells": [
  {
   "cell_type": "code",
   "execution_count": 1,
   "metadata": {},
   "outputs": [],
   "source": [
    "from actorcritic import ActorCriticAgent, EnvironmentWrapper, ContinuousActorCriticAgent\n",
    "import gymnasium as gym\n",
    "import datetime\n",
    "import numpy as np"
   ]
  },
  {
   "cell_type": "markdown",
   "metadata": {},
   "source": [
    "## Without freezing "
   ]
  },
  {
   "cell_type": "code",
   "execution_count": 2,
   "metadata": {},
   "outputs": [],
   "source": [
    "# hyperparameters\n",
    "config = {\n",
    "    'experiment': 'Acrobot2Cartpole',\n",
    "    'device': 'cuda',\n",
    "    'state_size': 6, \n",
    "    'action_size': 3,\n",
    "    'hidden_sizes': [64, 64], \n",
    "    'lr_actor': 0.001,\n",
    "    'lr_critic': 0.0005,\n",
    "    'verbosity': 10,\n",
    "    'env_name': 'CartPole-v1',\n",
    "    'gamma': 0.99, \n",
    "    'reward_threshold': 475.0,\n",
    "    'max_episodes': 2000,\n",
    "    'max_steps': 500,\n",
    "    'update_frequency': 500,\n",
    "    'discrete': True\n",
    "\n",
    "}\n"
   ]
  },
  {
   "cell_type": "code",
   "execution_count": 3,
   "metadata": {},
   "outputs": [
    {
     "name": "stderr",
     "output_type": "stream",
     "text": [
      "2024-03-12 13:29:32.311642: I tensorflow/core/util/port.cc:113] oneDNN custom operations are on. You may see slightly different numerical results due to floating-point round-off errors from different computation orders. To turn them off, set the environment variable `TF_ENABLE_ONEDNN_OPTS=0`.\n",
      "2024-03-12 13:29:32.376281: E external/local_xla/xla/stream_executor/cuda/cuda_dnn.cc:9261] Unable to register cuDNN factory: Attempting to register factory for plugin cuDNN when one has already been registered\n",
      "2024-03-12 13:29:32.376318: E external/local_xla/xla/stream_executor/cuda/cuda_fft.cc:607] Unable to register cuFFT factory: Attempting to register factory for plugin cuFFT when one has already been registered\n",
      "2024-03-12 13:29:32.377834: E external/local_xla/xla/stream_executor/cuda/cuda_blas.cc:1515] Unable to register cuBLAS factory: Attempting to register factory for plugin cuBLAS when one has already been registered\n",
      "2024-03-12 13:29:32.387985: I tensorflow/core/platform/cpu_feature_guard.cc:182] This TensorFlow binary is optimized to use available CPU instructions in performance-critical operations.\n",
      "To enable the following instructions: AVX2 AVX512F AVX512_VNNI FMA, in other operations, rebuild TensorFlow with the appropriate compiler flags.\n",
      "2024-03-12 13:29:35.178028: W tensorflow/compiler/tf2tensorrt/utils/py_utils.cc:38] TF-TRT Warning: Could not find TensorRT\n"
     ]
    }
   ],
   "source": [
    "# Initialize the ActorCriticAgent\n",
    "agent = ActorCriticAgent(config)"
   ]
  },
  {
   "cell_type": "code",
   "execution_count": 4,
   "metadata": {},
   "outputs": [],
   "source": [
    "# load previous model weights\n",
    "agent.load_models(env_name='Acrobot-v1')"
   ]
  },
  {
   "cell_type": "code",
   "execution_count": 5,
   "metadata": {},
   "outputs": [],
   "source": [
    "# Initialize the environment\n",
    "env = gym.make(config['env_name'])\n",
    "\n",
    "env_wrapper = EnvironmentWrapper(env)"
   ]
  },
  {
   "cell_type": "code",
   "execution_count": 6,
   "metadata": {},
   "outputs": [
    {
     "name": "stdout",
     "output_type": "stream",
     "text": [
      "Episode 0, Avg Reward: 8.0, PLoss: 0.819847583770752, VLoss: 888.7035522460938\n",
      "Episode 10, Avg Reward: 9.818181818181818, PLoss: 0.6973293423652649, VLoss: 729.9449462890625\n",
      "Episode 20, Avg Reward: 9.904761904761905, PLoss: 5.246307849884033, VLoss: 594.3250122070312\n",
      "Episode 30, Avg Reward: 10.129032258064516, PLoss: 0.4212765693664551, VLoss: 443.0463562011719\n",
      "Episode 40, Avg Reward: 10.170731707317072, PLoss: 2.4697561264038086, VLoss: 393.00616455078125\n",
      "Episode 50, Avg Reward: 10.117647058823529, PLoss: 0.23804374039173126, VLoss: 272.2134094238281\n",
      "Episode 60, Avg Reward: 10.01639344262295, PLoss: 0.20237696170806885, VLoss: 227.1310577392578\n",
      "Episode 70, Avg Reward: 10.0, PLoss: 0.13236622512340546, VLoss: 166.9411163330078\n",
      "Episode 80, Avg Reward: 9.938271604938272, PLoss: 0.12868519127368927, VLoss: 129.0911407470703\n",
      "Episode 90, Avg Reward: 9.89010989010989, PLoss: 0.12228745222091675, VLoss: 98.60016632080078\n",
      "Episode 100, Avg Reward: 9.91, PLoss: 3.1748909950256348, VLoss: 82.60747528076172\n",
      "Episode 110, Avg Reward: 9.9, PLoss: 6.048224925994873, VLoss: 79.24723052978516\n",
      "Episode 120, Avg Reward: 9.83, PLoss: 0.11199022829532623, VLoss: 49.62425231933594\n",
      "Episode 130, Avg Reward: 9.76, PLoss: 0.08823172003030777, VLoss: 32.5583381652832\n",
      "Episode 140, Avg Reward: 9.68, PLoss: 0.10645785182714462, VLoss: 25.348888397216797\n",
      "Episode 150, Avg Reward: 9.63, PLoss: 0.07124442607164383, VLoss: 12.152947425842285\n",
      "Episode 160, Avg Reward: 9.61, PLoss: 0.07690123468637466, VLoss: 9.26422119140625\n",
      "Episode 170, Avg Reward: 9.6, PLoss: 0.06458816677331924, VLoss: 7.957430362701416\n",
      "Episode 180, Avg Reward: 9.61, PLoss: 0.05056093633174896, VLoss: 6.091057300567627\n",
      "Episode 190, Avg Reward: 9.58, PLoss: 0.03828463703393936, VLoss: 5.465131759643555\n",
      "Episode 200, Avg Reward: 9.64, PLoss: 0.06063852086663246, VLoss: 6.072412014007568\n",
      "Episode 210, Avg Reward: 9.62, PLoss: 0.06247052550315857, VLoss: 7.02498722076416\n",
      "Episode 220, Avg Reward: 9.64, PLoss: 0.05183451622724533, VLoss: 10.639455795288086\n",
      "Episode 230, Avg Reward: 9.57, PLoss: 0.06077738106250763, VLoss: 14.831611633300781\n",
      "Episode 240, Avg Reward: 9.56, PLoss: 0.053730547428131104, VLoss: 14.783061027526855\n",
      "Episode 250, Avg Reward: 9.56, PLoss: 0.03143889084458351, VLoss: 14.612350463867188\n",
      "Episode 260, Avg Reward: 9.58, PLoss: 0.029004942625761032, VLoss: 24.012187957763672\n",
      "Episode 270, Avg Reward: 9.54, PLoss: 0.032384686172008514, VLoss: 19.823841094970703\n",
      "Episode 280, Avg Reward: 9.51, PLoss: 0.02279764786362648, VLoss: 18.86153793334961\n",
      "Episode 290, Avg Reward: 9.54, PLoss: 0.022566210478544235, VLoss: 20.45261001586914\n",
      "Episode 300, Avg Reward: 9.42, PLoss: 0.028693458065390587, VLoss: 19.50765037536621\n",
      "Episode 310, Avg Reward: 9.37, PLoss: 0.02592688426375389, VLoss: 21.41900062561035\n",
      "Episode 320, Avg Reward: 9.34, PLoss: 0.03081635572016239, VLoss: 24.304731369018555\n",
      "Episode 330, Avg Reward: 9.39, PLoss: 7.334970474243164, VLoss: 20.375011444091797\n",
      "Episode 340, Avg Reward: 9.32, PLoss: 0.05452867969870567, VLoss: 21.919509887695312\n",
      "Episode 350, Avg Reward: 9.33, PLoss: 0.06067869812250137, VLoss: 20.17214012145996\n",
      "Episode 360, Avg Reward: 9.39, PLoss: 0.07123220711946487, VLoss: 15.964598655700684\n",
      "Episode 370, Avg Reward: 9.39, PLoss: 0.06553303450345993, VLoss: 16.873329162597656\n",
      "Episode 380, Avg Reward: 9.43, PLoss: 0.12649747729301453, VLoss: 14.778501510620117\n",
      "Episode 390, Avg Reward: 9.49, PLoss: 0.13446347415447235, VLoss: 13.91142749786377\n",
      "Episode 400, Avg Reward: 9.52, PLoss: 0.13972213864326477, VLoss: 7.503048896789551\n",
      "Episode 410, Avg Reward: 9.56, PLoss: 0.11423181742429733, VLoss: 21.02541732788086\n",
      "Episode 420, Avg Reward: 9.54, PLoss: 0.12367601692676544, VLoss: 9.387210845947266\n",
      "Episode 430, Avg Reward: 9.52, PLoss: 0.12864798307418823, VLoss: 8.862564086914062\n",
      "Episode 440, Avg Reward: 9.6, PLoss: 6.273802757263184, VLoss: 22.066635131835938\n",
      "Episode 450, Avg Reward: 9.67, PLoss: 0.17139799892902374, VLoss: 9.651530265808105\n",
      "Episode 460, Avg Reward: 9.64, PLoss: 0.14536161720752716, VLoss: 17.429096221923828\n",
      "Episode 470, Avg Reward: 9.69, PLoss: 0.20904472470283508, VLoss: 5.7461700439453125\n",
      "Episode 480, Avg Reward: 9.7, PLoss: 0.23369741439819336, VLoss: 8.020974159240723\n",
      "Episode 490, Avg Reward: 9.65, PLoss: 3.455127477645874, VLoss: 195.24591064453125\n",
      "Episode 500, Avg Reward: 9.73, PLoss: 3.357146739959717, VLoss: 5.094223976135254\n",
      "Episode 510, Avg Reward: 9.87, PLoss: 2.879520893096924, VLoss: 184.29232788085938\n",
      "Episode 520, Avg Reward: 10.03, PLoss: 4.106459617614746, VLoss: 188.21566772460938\n",
      "Episode 530, Avg Reward: 10.07, PLoss: 6.252507209777832, VLoss: 130.95556640625\n",
      "Episode 540, Avg Reward: 10.11, PLoss: 0.4679771065711975, VLoss: 109.01470947265625\n",
      "Episode 550, Avg Reward: 10.06, PLoss: 0.5728519558906555, VLoss: 107.73820495605469\n",
      "Episode 560, Avg Reward: 9.97, PLoss: 0.5222667455673218, VLoss: 101.54480743408203\n",
      "Episode 570, Avg Reward: 9.91, PLoss: 5.306125164031982, VLoss: 87.98236083984375\n",
      "Episode 580, Avg Reward: 9.86, PLoss: 0.5855993628501892, VLoss: 77.09132385253906\n",
      "Episode 590, Avg Reward: 9.83, PLoss: 0.6038914322853088, VLoss: 89.66333770751953\n",
      "Episode 600, Avg Reward: 9.76, PLoss: 0.5714080929756165, VLoss: 80.13082885742188\n",
      "Episode 610, Avg Reward: 9.66, PLoss: 0.5409898161888123, VLoss: 91.25399017333984\n",
      "Episode 620, Avg Reward: 9.54, PLoss: 0.6001519560813904, VLoss: 74.56302642822266\n",
      "Episode 630, Avg Reward: 9.48, PLoss: 1.8881853818893433, VLoss: 84.58228302001953\n",
      "Episode 640, Avg Reward: 9.4, PLoss: 0.39468514919281006, VLoss: 80.4044418334961\n",
      "Episode 650, Avg Reward: 9.38, PLoss: 1.8902138471603394, VLoss: 84.11576080322266\n",
      "Episode 660, Avg Reward: 9.41, PLoss: 0.3702249825000763, VLoss: 70.4813461303711\n",
      "Episode 670, Avg Reward: 9.48, PLoss: 1.7937629222869873, VLoss: 77.1121826171875\n",
      "Episode 680, Avg Reward: 9.49, PLoss: 0.37566542625427246, VLoss: 70.6992416381836\n",
      "Episode 690, Avg Reward: 9.49, PLoss: 1.671928882598877, VLoss: 69.31024932861328\n",
      "Episode 700, Avg Reward: 9.46, PLoss: 1.6737849712371826, VLoss: 69.04224395751953\n",
      "Episode 710, Avg Reward: 9.4, PLoss: 1.5751357078552246, VLoss: 67.15765380859375\n",
      "Episode 720, Avg Reward: 9.48, PLoss: 0.6211044788360596, VLoss: 65.89867401123047\n",
      "Episode 730, Avg Reward: 9.46, PLoss: 0.6669660806655884, VLoss: 65.81456756591797\n",
      "Episode 740, Avg Reward: 9.47, PLoss: 1.2370026111602783, VLoss: 58.034828186035156\n",
      "Episode 750, Avg Reward: 9.53, PLoss: 1.1909937858581543, VLoss: 59.83287048339844\n",
      "Episode 760, Avg Reward: 9.6, PLoss: 0.8202519416809082, VLoss: 63.220123291015625\n",
      "Episode 770, Avg Reward: 9.53, PLoss: 0.9339181184768677, VLoss: 58.800140380859375\n",
      "Episode 780, Avg Reward: 9.52, PLoss: 5.084836959838867, VLoss: 55.47804641723633\n",
      "Episode 790, Avg Reward: 9.5, PLoss: 1.1103620529174805, VLoss: 48.56560516357422\n",
      "Episode 800, Avg Reward: 9.52, PLoss: 2.2116265296936035, VLoss: 49.03816223144531\n",
      "Episode 810, Avg Reward: 9.56, PLoss: 0.8377511501312256, VLoss: 48.20439910888672\n",
      "Episode 820, Avg Reward: 9.53, PLoss: 0.8941730260848999, VLoss: 46.06003189086914\n",
      "Episode 830, Avg Reward: 9.55, PLoss: 2.251330614089966, VLoss: 44.27629089355469\n",
      "Episode 840, Avg Reward: 9.59, PLoss: 0.7035588622093201, VLoss: 41.246368408203125\n",
      "Episode 850, Avg Reward: 9.6, PLoss: 2.2259883880615234, VLoss: 38.06338119506836\n",
      "Episode 860, Avg Reward: 9.56, PLoss: 0.8188291192054749, VLoss: 38.43680191040039\n",
      "Episode 870, Avg Reward: 9.67, PLoss: 0.7422111630439758, VLoss: 39.12264633178711\n",
      "Episode 880, Avg Reward: 9.71, PLoss: 1.9481875896453857, VLoss: 38.410682678222656\n",
      "Episode 890, Avg Reward: 9.8, PLoss: 6.208034515380859, VLoss: 71.4616928100586\n",
      "Episode 900, Avg Reward: 9.84, PLoss: 0.8517481684684753, VLoss: 32.12702941894531\n",
      "Episode 910, Avg Reward: 9.83, PLoss: 0.9204012751579285, VLoss: 28.114843368530273\n",
      "Episode 920, Avg Reward: 9.79, PLoss: 0.7714167237281799, VLoss: 23.028751373291016\n",
      "Episode 930, Avg Reward: 9.94, PLoss: 0.7241897583007812, VLoss: 22.730976104736328\n",
      "Episode 940, Avg Reward: 9.94, PLoss: 0.7822496891021729, VLoss: 27.651926040649414\n",
      "Episode 950, Avg Reward: 9.83, PLoss: 1.9555710554122925, VLoss: 21.50524139404297\n",
      "Episode 960, Avg Reward: 9.8, PLoss: 0.646918535232544, VLoss: 13.587906837463379\n",
      "Episode 970, Avg Reward: 9.77, PLoss: 4.858271598815918, VLoss: 18.830760955810547\n",
      "Episode 980, Avg Reward: 9.84, PLoss: 1.2318156957626343, VLoss: 15.169635772705078\n",
      "Episode 990, Avg Reward: 9.88, PLoss: 0.7827410697937012, VLoss: 12.12843132019043\n",
      "Episode 1000, Avg Reward: 10.14, PLoss: 0.5698683261871338, VLoss: 20.646493911743164\n",
      "Episode 1010, Avg Reward: 10.43, PLoss: 0.6412168145179749, VLoss: 19.533205032348633\n",
      "Episode 1020, Avg Reward: 10.61, PLoss: 3.4798755645751953, VLoss: 128.32794189453125\n",
      "Episode 1030, Avg Reward: 10.48, PLoss: 1.3095372915267944, VLoss: 13.163524627685547\n",
      "Episode 1040, Avg Reward: 10.46, PLoss: 0.6670243144035339, VLoss: 74.87052917480469\n",
      "Episode 1050, Avg Reward: 10.49, PLoss: 0.4780072271823883, VLoss: 49.75546646118164\n",
      "Episode 1060, Avg Reward: 10.61, PLoss: 0.3394594192504883, VLoss: 44.004180908203125\n",
      "Episode 1070, Avg Reward: 10.61, PLoss: 0.2715013325214386, VLoss: 29.374820709228516\n",
      "Episode 1080, Avg Reward: 10.51, PLoss: 0.22500985860824585, VLoss: 27.631423950195312\n",
      "Episode 1090, Avg Reward: 10.41, PLoss: 0.2214706540107727, VLoss: 18.78809928894043\n",
      "Episode 1100, Avg Reward: 10.21, PLoss: 0.18218494951725006, VLoss: 30.28018569946289\n",
      "Episode 1110, Avg Reward: 9.97, PLoss: 7.393939971923828, VLoss: 20.843990325927734\n",
      "Episode 1120, Avg Reward: 9.81, PLoss: 0.22011703252792358, VLoss: 17.280805587768555\n",
      "Episode 1130, Avg Reward: 9.86, PLoss: 5.2300639152526855, VLoss: 7.771376609802246\n",
      "Episode 1140, Avg Reward: 9.95, PLoss: 4.645563125610352, VLoss: 7.834003448486328\n",
      "Episode 1150, Avg Reward: 10.01, PLoss: 0.16862238943576813, VLoss: 4.00168514251709\n",
      "Episode 1160, Avg Reward: 9.98, PLoss: 4.240028381347656, VLoss: 9.86220932006836\n",
      "Episode 1170, Avg Reward: 10.02, PLoss: 0.11370477825403214, VLoss: 1.1199214458465576\n",
      "Episode 1180, Avg Reward: 10.07, PLoss: 0.14776307344436646, VLoss: 1.5339275598526\n",
      "Episode 1190, Avg Reward: 10.15, PLoss: 0.1557925045490265, VLoss: 2.871903657913208\n",
      "Episode 1200, Avg Reward: 10.06, PLoss: 0.13801369071006775, VLoss: 1.9989051818847656\n",
      "Episode 1210, Avg Reward: 10.21, PLoss: 10.687410354614258, VLoss: 23.6767578125\n",
      "Episode 1220, Avg Reward: 10.34, PLoss: 0.03935149312019348, VLoss: 2.2011799812316895\n",
      "Episode 1230, Avg Reward: 10.92, PLoss: 19.154808044433594, VLoss: 36.92888259887695\n",
      "Episode 1240, Avg Reward: 12.69, PLoss: 24.628705978393555, VLoss: 169.12689208984375\n",
      "Episode 1250, Avg Reward: 15.39, PLoss: -17.498498916625977, VLoss: 367.7132568359375\n",
      "Episode 1260, Avg Reward: 17.06, PLoss: -3.420681953430176, VLoss: 577.006103515625\n",
      "Episode 1270, Avg Reward: 19.18, PLoss: 12.384994506835938, VLoss: 543.05615234375\n",
      "Episode 1280, Avg Reward: 22.04, PLoss: -17.433839797973633, VLoss: 548.8786010742188\n",
      "Episode 1290, Avg Reward: 28.14, PLoss: 15.324066162109375, VLoss: 684.484619140625\n",
      "Episode 1300, Avg Reward: 32.6, PLoss: -23.253084182739258, VLoss: 1274.3336181640625\n",
      "Episode 1310, Avg Reward: 38.12, PLoss: 12.964258193969727, VLoss: 1240.6717529296875\n",
      "Episode 1320, Avg Reward: 40.72, PLoss: 11.598365783691406, VLoss: 1204.422607421875\n",
      "Episode 1330, Avg Reward: 41.91, PLoss: -30.837793350219727, VLoss: 834.641845703125\n",
      "Episode 1340, Avg Reward: 41.76, PLoss: 10.128365516662598, VLoss: 485.3796691894531\n",
      "Episode 1350, Avg Reward: 40.83, PLoss: 8.369342803955078, VLoss: 340.9261779785156\n",
      "Episode 1360, Avg Reward: 41.82, PLoss: 17.488122940063477, VLoss: 356.3947448730469\n",
      "Episode 1370, Avg Reward: 42.37, PLoss: 21.72976303100586, VLoss: 250.97305297851562\n",
      "Episode 1380, Avg Reward: 44.5, PLoss: -21.668615341186523, VLoss: 381.76904296875\n",
      "Episode 1390, Avg Reward: 45.65, PLoss: -27.28589630126953, VLoss: 717.8663330078125\n",
      "Episode 1400, Avg Reward: 49.14, PLoss: 36.07471466064453, VLoss: 474.386474609375\n",
      "Episode 1410, Avg Reward: 49.38, PLoss: 2.5157394409179688, VLoss: 1468.5867919921875\n",
      "Episode 1420, Avg Reward: 50.11, PLoss: 2.310590982437134, VLoss: 1480.94970703125\n",
      "Episode 1430, Avg Reward: 51.54, PLoss: 5.274482250213623, VLoss: 977.2335205078125\n",
      "Episode 1440, Avg Reward: 51.74, PLoss: -1.3635284900665283, VLoss: 745.5543823242188\n",
      "Episode 1450, Avg Reward: 51.67, PLoss: -71.53313446044922, VLoss: 469.73553466796875\n",
      "Episode 1460, Avg Reward: 50.73, PLoss: -0.010567188262939453, VLoss: 337.8880615234375\n",
      "Episode 1470, Avg Reward: 50.72, PLoss: -10.408209800720215, VLoss: 261.45947265625\n",
      "Episode 1480, Avg Reward: 49.49, PLoss: 3.871819257736206, VLoss: 176.09019470214844\n",
      "Episode 1490, Avg Reward: 48.08, PLoss: 7.141547679901123, VLoss: 169.39035034179688\n",
      "Episode 1500, Avg Reward: 48.81, PLoss: 3.175917625427246, VLoss: 242.01431274414062\n",
      "Episode 1510, Avg Reward: 49.4, PLoss: 18.12521743774414, VLoss: 4135.33740234375\n",
      "Episode 1520, Avg Reward: 55.01, PLoss: -0.09139889478683472, VLoss: 354.1278991699219\n",
      "Episode 1530, Avg Reward: 58.79, PLoss: 16.028825759887695, VLoss: 985.17138671875\n",
      "Episode 1540, Avg Reward: 61.26, PLoss: 0.32124578952789307, VLoss: 1007.9710693359375\n",
      "Episode 1550, Avg Reward: 64.55, PLoss: -100.33079528808594, VLoss: 840.3226318359375\n",
      "Episode 1560, Avg Reward: 66.05, PLoss: -2.0881762504577637, VLoss: 552.7901000976562\n",
      "Episode 1570, Avg Reward: 66.97, PLoss: -0.034163475036621094, VLoss: 500.3294982910156\n",
      "Episode 1580, Avg Reward: 67.95, PLoss: -0.18105149269104004, VLoss: 443.2278747558594\n",
      "Episode 1590, Avg Reward: 66.62, PLoss: -16.54269027709961, VLoss: 439.36724853515625\n",
      "Episode 1600, Avg Reward: 63.73, PLoss: -44.78138732910156, VLoss: 460.09735107421875\n",
      "Episode 1610, Avg Reward: 61.96, PLoss: -3.83219051361084, VLoss: 426.4711608886719\n",
      "Episode 1620, Avg Reward: 57.88, PLoss: -3.46250581741333, VLoss: 195.7736053466797\n",
      "Episode 1630, Avg Reward: 56.87, PLoss: -107.50679016113281, VLoss: 4351.17822265625\n",
      "Episode 1640, Avg Reward: 59.59, PLoss: -0.039267539978027344, VLoss: 283.3181457519531\n",
      "Episode 1650, Avg Reward: 60.2, PLoss: -2.3345227241516113, VLoss: 292.4871520996094\n",
      "Episode 1660, Avg Reward: 61.64, PLoss: -5.66843843460083, VLoss: 304.1844482421875\n",
      "Episode 1670, Avg Reward: 63.51, PLoss: -1.1070141792297363, VLoss: 205.13272094726562\n",
      "Episode 1680, Avg Reward: 64.3, PLoss: -2.0775184631347656, VLoss: 213.7597198486328\n",
      "Episode 1690, Avg Reward: 67.02, PLoss: 4.677283763885498, VLoss: 157.2764434814453\n",
      "Episode 1700, Avg Reward: 67.38, PLoss: 1.7754398584365845, VLoss: 109.20575714111328\n",
      "Episode 1710, Avg Reward: 67.68, PLoss: 21.258644104003906, VLoss: 4375.7431640625\n",
      "Episode 1720, Avg Reward: 69.44, PLoss: -7.380249977111816, VLoss: 52.81614685058594\n",
      "Episode 1730, Avg Reward: 70.86, PLoss: -4.162635326385498, VLoss: 263.14849853515625\n",
      "Episode 1740, Avg Reward: 68.46, PLoss: -10.924962997436523, VLoss: 233.72706604003906\n",
      "Episode 1750, Avg Reward: 66.88, PLoss: -5.103578090667725, VLoss: 169.21449279785156\n",
      "Episode 1760, Avg Reward: 66.35, PLoss: -0.939038872718811, VLoss: 102.0722885131836\n",
      "Episode 1770, Avg Reward: 66.51, PLoss: -1.866073727607727, VLoss: 341.6092529296875\n",
      "Episode 1780, Avg Reward: 67.94, PLoss: -3.5579657554626465, VLoss: 198.4200439453125\n",
      "Episode 1790, Avg Reward: 67.82, PLoss: 0.5929775238037109, VLoss: 360.2886657714844\n",
      "Episode 1800, Avg Reward: 65.52, PLoss: -10.800679206848145, VLoss: 86.3516616821289\n",
      "Episode 1810, Avg Reward: 64.35, PLoss: -13.12529182434082, VLoss: 125.30065155029297\n",
      "Episode 1820, Avg Reward: 63.05, PLoss: -8.522218704223633, VLoss: 48.841407775878906\n",
      "Episode 1830, Avg Reward: 59.07, PLoss: -5.044642925262451, VLoss: 91.56978607177734\n",
      "Episode 1840, Avg Reward: 61.05, PLoss: -3.8816978931427, VLoss: 37.64300537109375\n",
      "Episode 1850, Avg Reward: 62.24, PLoss: -6.243030071258545, VLoss: 50.2872200012207\n",
      "Episode 1860, Avg Reward: 63.37, PLoss: -3.7764737606048584, VLoss: 24.852888107299805\n",
      "Episode 1870, Avg Reward: 64.33, PLoss: -9.343707084655762, VLoss: 40.09908676147461\n",
      "Episode 1880, Avg Reward: 62.27, PLoss: -9.960942268371582, VLoss: 99.26399230957031\n",
      "Episode 1890, Avg Reward: 59.91, PLoss: -6.813949108123779, VLoss: 86.80232238769531\n",
      "Episode 1900, Avg Reward: 61.52, PLoss: -4.186887741088867, VLoss: 126.9516830444336\n",
      "Episode 1910, Avg Reward: 63.0, PLoss: -6.891797065734863, VLoss: 12.718074798583984\n",
      "Episode 1920, Avg Reward: 62.15, PLoss: -7.014642715454102, VLoss: 39.22315979003906\n",
      "Episode 1930, Avg Reward: 65.18, PLoss: 24.129743576049805, VLoss: 6650.04248046875\n",
      "Episode 1940, Avg Reward: 63.69, PLoss: -5.970635890960693, VLoss: 21.64312171936035\n",
      "Episode 1950, Avg Reward: 66.01, PLoss: -5.824254989624023, VLoss: 19.884159088134766\n",
      "Episode 1960, Avg Reward: 65.91, PLoss: -6.428115367889404, VLoss: 27.850788116455078\n",
      "Episode 1970, Avg Reward: 64.71, PLoss: -2.9446909427642822, VLoss: 41.0627555847168\n",
      "Episode 1980, Avg Reward: 66.41, PLoss: -2.3241043090820312, VLoss: 18.016023635864258\n",
      "Episode 1990, Avg Reward: 66.14, PLoss: 31.094144821166992, VLoss: 7989.71630859375\n"
     ]
    }
   ],
   "source": [
    "results = agent.train(env_wrapper, max_episodes=config['max_episodes'], max_steps=config['max_steps'], reward_threshold=config['reward_threshold'], update_frequency=config['update_frequency'])"
   ]
  },
  {
   "cell_type": "code",
   "execution_count": 7,
   "metadata": {},
   "outputs": [
    {
     "data": {
      "image/png": "[encoded data removed]",
      "text/plain": [
       "<Figure size 640x480 with 1 Axes>"
      ]
     },
     "metadata": {},
     "output_type": "display_data"
    }
   ],
   "source": [
    "# plot results\n",
    "import matplotlib.pyplot as plt\n",
    "\n",
    "plt.plot(results['Episode'], results['Reward'], label='Reward')\n",
    "plt.plot(results['Episode'], results['Average_100'], label='Average 100')\n",
    "plt.xlabel('Episodes')\n",
    "plt.ylabel('Reward')\n",
    "plt.legend()\n",
    "plt.show()\n"
   ]
  },
  {
   "cell_type": "code",
   "execution_count": 8,
   "metadata": {},
   "outputs": [
    {
     "ename": "SyntaxError",
     "evalue": "f-string: unmatched '[' (516453649.py, line 2)",
     "output_type": "error",
     "traceback": [
      "\u001b[0;36m  Cell \u001b[0;32mIn[8], line 2\u001b[0;36m\u001b[0m\n\u001b[0;31m    np.save(f'results/{config['experiment']}', results)\u001b[0m\n\u001b[0m                               ^\u001b[0m\n\u001b[0;31mSyntaxError\u001b[0m\u001b[0;31m:\u001b[0m f-string: unmatched '['\n"
     ]
    }
   ],
   "source": [
    "# save results with model name and time\n",
    "np.save(f'results/{config['experiment']}', results)"
   ]
  },
  {
   "cell_type": "code",
   "execution_count": null,
   "metadata": {},
   "outputs": [
    {
     "data": {
      "text/plain": [
       "1251.0735347270966"
      ]
     },
     "execution_count": 17,
     "metadata": {},
     "output_type": "execute_result"
    }
   ],
   "source": [
    "results['Duration']"
   ]
  },
  {
   "cell_type": "markdown",
   "metadata": {},
   "source": [
    "## With freezing weights"
   ]
  },
  {
   "cell_type": "code",
   "execution_count": null,
   "metadata": {},
   "outputs": [],
   "source": [
    "# hyperparameters\n",
    "config = {\n",
    "    'experiment': 'Acrobot2CartPole_freeze',\n",
    "    'device': 'cuda',\n",
    "    'state_size': 6, \n",
    "    'action_size': 3,\n",
    "    'hidden_sizes': [64, 64], \n",
    "    'lr_actor': 0.001,\n",
    "    'lr_critic': 0.0005,\n",
    "    'verbosity': 10,\n",
    "    'env_name': 'CartPole-v1',\n",
    "    'gamma': 0.99, \n",
    "    'reward_threshold': 475.0,\n",
    "    'max_episodes': 2000,\n",
    "    'max_steps': 500,\n",
    "    'update_frequency': 2000,\n",
    "    'discrete': True\n",
    "\n",
    "}\n",
    "\n"
   ]
  },
  {
   "cell_type": "code",
   "execution_count": null,
   "metadata": {},
   "outputs": [],
   "source": [
    "# Initialize the ActorCriticAgent\n",
    "agent = ActorCriticAgent(config)\n",
    "# load previous model weights\n",
    "agent.load_models(env_name='Acrobot-v1')"
   ]
  },
  {
   "cell_type": "code",
   "execution_count": null,
   "metadata": {},
   "outputs": [],
   "source": [
    "agent.reinitialize_output_layers(config['action_size'])"
   ]
  },
  {
   "cell_type": "code",
   "execution_count": null,
   "metadata": {},
   "outputs": [],
   "source": [
    "\n",
    "# Initialize the environment\n",
    "env = gym.make(config['env_name'])\n",
    "\n",
    "env_wrapper = EnvironmentWrapper(env)\n",
    "results = agent.train(env_wrapper, max_episodes=config['max_episodes'], max_steps=config['max_steps'], reward_threshold=config['reward_threshold'], update_frequency=config['update_frequency'])\n",
    "# plot results\n"
   ]
  },
  {
   "cell_type": "code",
   "execution_count": null,
   "metadata": {},
   "outputs": [],
   "source": [
    "import matplotlib.pyplot as plt\n",
    "\n",
    "plt.plot(results['Episode'], results['Reward'], label='Reward')\n",
    "plt.plot(results['Episode'], results['Average_100'], label='Average 100')\n",
    "plt.xlabel('Episodes')\n",
    "plt.ylabel('Reward')\n",
    "plt.legend()\n",
    "plt.show()\n",
    "\n"
   ]
  },
  {
   "cell_type": "code",
   "execution_count": null,
   "metadata": {},
   "outputs": [],
   "source": [
    "# save results with model name and time\n",
    "np.save(f'results/{config['experiment']}', results)\n",
    "\n",
    "results['Duration']"
   ]
  },
  {
   "cell_type": "code",
   "execution_count": null,
   "metadata": {},
   "outputs": [],
   "source": []
  }
 ],
 "metadata": {
  "kernelspec": {
   "display_name": "logdeep",
   "language": "python",
   "name": "python3"
  },
  "language_info": {
   "codemirror_mode": {
    "name": "ipython",
    "version": 3
   },
   "file_extension": ".py",
   "mimetype": "text/x-python",
   "name": "python",
   "nbconvert_exporter": "python",
   "pygments_lexer": "ipython3",
   "version": "3.9.13"
  }
 },
 "nbformat": 4,
 "nbformat_minor": 2
}
