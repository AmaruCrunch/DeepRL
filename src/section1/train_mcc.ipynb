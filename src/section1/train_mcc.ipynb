{
 "cells": [
  {
   "cell_type": "code",
   "execution_count": null,
   "metadata": {},
   "outputs": [],
   "source": [
    "\"\"\"\n",
    "TODO:\n",
    "- Test update policy every 1 step\n",
    "- try a network with smaller value network and bigger policy\n",
    "- try a network with bigger value network and smaller policy\n",
    "- learning rates\n",
    "\"\"\""
   ]
  },
  {
   "cell_type": "code",
   "execution_count": 6,
   "metadata": {},
   "outputs": [],
   "source": [
    "import gymnasium as gym\n",
    "import numpy as np\n",
    "from actor_critic_agent import ActorCriticAgent\n",
    "from env_wrapper import EnvironmentWrapper"
   ]
  },
  {
   "cell_type": "code",
   "execution_count": 7,
   "metadata": {},
   "outputs": [],
   "source": [
    "\n",
    "config = {\n",
    "    'experiment': 'MountainCarContinuous',\n",
    "    'device': 'cuda',\n",
    "    'state_size': 6, \n",
    "    'action_size': 3,\n",
    "    'hidden_sizes': [64, 64], \n",
    "    'lr_actor': 0.001,\n",
    "    'lr_critic': 0.0005,\n",
    "    'verbosity': 10,\n",
    "    'env_name': 'MountainCarContinuous-v0',\n",
    "    'gamma': 0.99, \n",
    "    'reward_threshold': 80.0,\n",
    "    'max_episodes': 5000,\n",
    "    'max_steps': 500,\n",
    "    'update_frequency': 500,\n",
    "    'discrete': True\n",
    "\n",
    "}"
   ]
  },
  {
   "cell_type": "code",
   "execution_count": 8,
   "metadata": {},
   "outputs": [],
   "source": [
    "class MCCWrapper(EnvironmentWrapper):\n",
    "    def __init__(self, env, num_actions=3):\n",
    "        super().__init__(env)\n",
    "        self.action_space = num_actions\n",
    "        # Define the discrete action boundaries\n",
    "        self.action_boundaries = np.linspace(-1, 1, num_actions)\n",
    "        self.ticker = 0\n",
    "        self.succeeded = 0\n",
    "\n",
    "\n",
    "    def step(self, action):\n",
    "        # Convert the discrete action into a continuous action\n",
    "        continuous_action = [self.discretize_action(action)]\n",
    "\n",
    "\n",
    "        # Step using the continuous action\n",
    "        state, reward, done, _, info = self.env.step(continuous_action)\n",
    "\n",
    "        if self.succeeded < 10: # handicap\n",
    "            reward = abs(state[1]) * 0.1 # moving is good\n",
    "            \n",
    "            if state[0] >= 0.45:\n",
    "                reward += 100\n",
    "                self.succeeded += 1\n",
    "        \n",
    "\n",
    "        # Pad state to match target_state_size\n",
    "        padded_state = np.append(state, np.zeros(self.target_state_size - len(state)))\n",
    "        \n",
    "        self.ticker += 1\n",
    "\n",
    "        return padded_state, reward, done, info\n",
    "    \n",
    "\n",
    "\n",
    "    def discretize_action(self, action):\n",
    "        # Ensure the action is within the valid range\n",
    "        action = max(0, min(action, self.action_space - 1))\n",
    "        return self.action_boundaries[action]"
   ]
  },
  {
   "cell_type": "code",
   "execution_count": 9,
   "metadata": {},
   "outputs": [],
   "source": [
    "# Initialize the environment\n",
    "env = gym.make(config['env_name'])\n",
    "env_wrapper = MCCWrapper(env, num_actions=3)\n"
   ]
  },
  {
   "cell_type": "code",
   "execution_count": 10,
   "metadata": {},
   "outputs": [],
   "source": [
    "# Initialize the ActorCriticAgent\n",
    "agent = ActorCriticAgent(config)"
   ]
  },
  {
   "cell_type": "code",
   "execution_count": 11,
   "metadata": {},
   "outputs": [
    {
     "name": "stdout",
     "output_type": "stream",
     "text": [
      "Episode 0, Avg Reward: 0.4310501144690361, PLoss: 1.0300841331481934, VLoss: 0.0019827433861792088\n",
      "Episode 10, Avg Reward: 0.6139149357135726, PLoss: 0.6070703268051147, VLoss: 0.0010550760198384523\n",
      "Episode 20, Avg Reward: 5.354370473145429, PLoss: 0.01802113465964794, VLoss: 0.00042641093023121357\n",
      "Episode 30, Avg Reward: 3.7900152947757895, PLoss: 0.05094999819993973, VLoss: 0.0009404005249962211\n",
      "Episode 40, Avg Reward: 2.9894814574406428, PLoss: -0.42732107639312744, VLoss: 0.0004448716063052416\n",
      "Episode 50, Avg Reward: 2.5133931816800463, PLoss: 0.05232150852680206, VLoss: 0.0004373435222078115\n",
      "Episode 60, Avg Reward: 2.1828055938089808, PLoss: -0.27114614844322205, VLoss: 0.00040682716644369066\n",
      "Episode 70, Avg Reward: 1.9579469788191963, PLoss: 0.11124685406684875, VLoss: 0.0004946996923536062\n",
      "Episode 80, Avg Reward: 1.7852081772919222, PLoss: -0.3179815113544464, VLoss: 0.0002451833279337734\n",
      "Episode 90, Avg Reward: 1.6514990069823274, PLoss: -0.2750757038593292, VLoss: 0.000205835749511607\n",
      "Episode 100, Avg Reward: 1.5639324598327549, PLoss: 0.08349169790744781, VLoss: 0.0003392333455849439\n",
      "Episode 110, Avg Reward: 1.55479719279835, PLoss: -0.16298191249370575, VLoss: 0.00028842646861448884\n",
      "Episode 120, Avg Reward: 0.5495277677929115, PLoss: -0.03834887221455574, VLoss: 0.00035223359009251\n",
      "Episode 130, Avg Reward: 0.5504147386313504, PLoss: -0.12753520905971527, VLoss: 0.0001631492341402918\n",
      "Episode 140, Avg Reward: 0.5590282652143866, PLoss: -0.21037861704826355, VLoss: 0.00023347680689767003\n"
     ]
    },
    {
     "ename": "KeyboardInterrupt",
     "evalue": "",
     "output_type": "error",
     "traceback": [
      "\u001b[0;31m---------------------------------------------------------------------------\u001b[0m",
      "\u001b[0;31mKeyboardInterrupt\u001b[0m                         Traceback (most recent call last)",
      "Cell \u001b[0;32mIn[11], line 1\u001b[0m\n\u001b[0;32m----> 1\u001b[0m results \u001b[38;5;241m=\u001b[39m \u001b[43magent\u001b[49m\u001b[38;5;241;43m.\u001b[39;49m\u001b[43mtrain\u001b[49m\u001b[43m(\u001b[49m\u001b[43menv_wrapper\u001b[49m\u001b[43m,\u001b[49m\n\u001b[1;32m      2\u001b[0m \u001b[43m \u001b[49m\u001b[43mmax_episodes\u001b[49m\u001b[38;5;241;43m=\u001b[39;49m\u001b[43mconfig\u001b[49m\u001b[43m[\u001b[49m\u001b[38;5;124;43m'\u001b[39;49m\u001b[38;5;124;43mmax_episodes\u001b[39;49m\u001b[38;5;124;43m'\u001b[39;49m\u001b[43m]\u001b[49m\u001b[43m,\u001b[49m\n\u001b[1;32m      3\u001b[0m \u001b[43m \u001b[49m\u001b[43mmax_steps\u001b[49m\u001b[38;5;241;43m=\u001b[39;49m\u001b[43mconfig\u001b[49m\u001b[43m[\u001b[49m\u001b[38;5;124;43m'\u001b[39;49m\u001b[38;5;124;43mmax_steps\u001b[39;49m\u001b[38;5;124;43m'\u001b[39;49m\u001b[43m]\u001b[49m\u001b[43m,\u001b[49m\n\u001b[1;32m      4\u001b[0m \u001b[43m \u001b[49m\u001b[43mreward_threshold\u001b[49m\u001b[38;5;241;43m=\u001b[39;49m\u001b[43mconfig\u001b[49m\u001b[43m[\u001b[49m\u001b[38;5;124;43m'\u001b[39;49m\u001b[38;5;124;43mreward_threshold\u001b[39;49m\u001b[38;5;124;43m'\u001b[39;49m\u001b[43m]\u001b[49m\u001b[43m,\u001b[49m\n\u001b[1;32m      5\u001b[0m \u001b[43m \u001b[49m\u001b[43mupdate_frequency\u001b[49m\u001b[38;5;241;43m=\u001b[39;49m\u001b[43mconfig\u001b[49m\u001b[43m[\u001b[49m\u001b[38;5;124;43m'\u001b[39;49m\u001b[38;5;124;43mupdate_frequency\u001b[39;49m\u001b[38;5;124;43m'\u001b[39;49m\u001b[43m]\u001b[49m\u001b[43m)\u001b[49m\n",
      "File \u001b[0;32m/sise/home/etaylor/code_projects/DRL/drl_ass3/actorcritic.py:174\u001b[0m, in \u001b[0;36mActorCriticAgent.train\u001b[0;34m(self, env_wrapper, max_episodes, max_steps, reward_threshold, update_frequency)\u001b[0m\n\u001b[1;32m    171\u001b[0m transitions \u001b[38;5;241m=\u001b[39m []\n\u001b[1;32m    173\u001b[0m \u001b[38;5;28;01mfor\u001b[39;00m step \u001b[38;5;129;01min\u001b[39;00m \u001b[38;5;28mrange\u001b[39m(max_steps):\n\u001b[0;32m--> 174\u001b[0m     action, log_prob \u001b[38;5;241m=\u001b[39m \u001b[38;5;28;43mself\u001b[39;49m\u001b[38;5;241;43m.\u001b[39;49m\u001b[43mselect_action\u001b[49m\u001b[43m(\u001b[49m\u001b[43mstate\u001b[49m\u001b[43m)\u001b[49m\n\u001b[1;32m    175\u001b[0m     next_state, reward, done, _ \u001b[38;5;241m=\u001b[39m env_wrapper\u001b[38;5;241m.\u001b[39mstep(action)\n\u001b[1;32m    176\u001b[0m     transitions\u001b[38;5;241m.\u001b[39mappend(Transition(state, action, reward, next_state, done))\n",
      "File \u001b[0;32m/sise/home/etaylor/code_projects/DRL/drl_ass3/actorcritic.py:97\u001b[0m, in \u001b[0;36mActorCriticAgent.select_action\u001b[0;34m(self, state)\u001b[0m\n\u001b[1;32m     95\u001b[0m     probs \u001b[38;5;241m=\u001b[39m \u001b[38;5;28mself\u001b[39m\u001b[38;5;241m.\u001b[39mpolicy_network(state)\n\u001b[1;32m     96\u001b[0m     m \u001b[38;5;241m=\u001b[39m Categorical(probs)\n\u001b[0;32m---> 97\u001b[0m     action \u001b[38;5;241m=\u001b[39m \u001b[43mm\u001b[49m\u001b[38;5;241;43m.\u001b[39;49m\u001b[43msample\u001b[49m\u001b[43m(\u001b[49m\u001b[43m)\u001b[49m\n\u001b[1;32m     99\u001b[0m \u001b[38;5;28;01mreturn\u001b[39;00m action\u001b[38;5;241m.\u001b[39mitem(), m\u001b[38;5;241m.\u001b[39mlog_prob(action)\n",
      "File \u001b[0;32m~/.conda/envs/drl_ass3/lib/python3.12/site-packages/torch/distributions/categorical.py:132\u001b[0m, in \u001b[0;36mCategorical.sample\u001b[0;34m(self, sample_shape)\u001b[0m\n\u001b[1;32m    130\u001b[0m     sample_shape \u001b[38;5;241m=\u001b[39m torch\u001b[38;5;241m.\u001b[39mSize(sample_shape)\n\u001b[1;32m    131\u001b[0m probs_2d \u001b[38;5;241m=\u001b[39m \u001b[38;5;28mself\u001b[39m\u001b[38;5;241m.\u001b[39mprobs\u001b[38;5;241m.\u001b[39mreshape(\u001b[38;5;241m-\u001b[39m\u001b[38;5;241m1\u001b[39m, \u001b[38;5;28mself\u001b[39m\u001b[38;5;241m.\u001b[39m_num_events)\n\u001b[0;32m--> 132\u001b[0m samples_2d \u001b[38;5;241m=\u001b[39m \u001b[43mtorch\u001b[49m\u001b[38;5;241;43m.\u001b[39;49m\u001b[43mmultinomial\u001b[49m\u001b[43m(\u001b[49m\u001b[43mprobs_2d\u001b[49m\u001b[43m,\u001b[49m\u001b[43m \u001b[49m\u001b[43msample_shape\u001b[49m\u001b[38;5;241;43m.\u001b[39;49m\u001b[43mnumel\u001b[49m\u001b[43m(\u001b[49m\u001b[43m)\u001b[49m\u001b[43m,\u001b[49m\u001b[43m \u001b[49m\u001b[38;5;28;43;01mTrue\u001b[39;49;00m\u001b[43m)\u001b[49m\u001b[38;5;241m.\u001b[39mT\n\u001b[1;32m    133\u001b[0m \u001b[38;5;28;01mreturn\u001b[39;00m samples_2d\u001b[38;5;241m.\u001b[39mreshape(\u001b[38;5;28mself\u001b[39m\u001b[38;5;241m.\u001b[39m_extended_shape(sample_shape))\n",
      "\u001b[0;31mKeyboardInterrupt\u001b[0m: "
     ]
    }
   ],
   "source": [
    "results = agent.train(env_wrapper,\n",
    " max_episodes=config['max_episodes'],\n",
    " max_steps=config['max_steps'],\n",
    " reward_threshold=config['reward_threshold'],\n",
    " update_frequency=config['update_frequency'])"
   ]
  },
  {
   "cell_type": "code",
   "execution_count": null,
   "metadata": {},
   "outputs": [],
   "source": [
    "# Save the models\n",
    "agent.save_models()"
   ]
  },
  {
   "cell_type": "code",
   "execution_count": null,
   "metadata": {},
   "outputs": [
    {
     "ename": "NameError",
     "evalue": "name 'results' is not defined",
     "output_type": "error",
     "traceback": [
      "\u001b[0;31m---------------------------------------------------------------------------\u001b[0m",
      "\u001b[0;31mNameError\u001b[0m                                 Traceback (most recent call last)",
      "Cell \u001b[0;32mIn[9], line 4\u001b[0m\n\u001b[1;32m      1\u001b[0m \u001b[38;5;66;03m# plot results\u001b[39;00m\n\u001b[1;32m      2\u001b[0m \u001b[38;5;28;01mimport\u001b[39;00m \u001b[38;5;21;01mmatplotlib\u001b[39;00m\u001b[38;5;21;01m.\u001b[39;00m\u001b[38;5;21;01mpyplot\u001b[39;00m \u001b[38;5;28;01mas\u001b[39;00m \u001b[38;5;21;01mplt\u001b[39;00m\n\u001b[0;32m----> 4\u001b[0m plt\u001b[38;5;241m.\u001b[39mplot(\u001b[43mresults\u001b[49m[\u001b[38;5;124m'\u001b[39m\u001b[38;5;124mEpisode\u001b[39m\u001b[38;5;124m'\u001b[39m], results[\u001b[38;5;124m'\u001b[39m\u001b[38;5;124mReward\u001b[39m\u001b[38;5;124m'\u001b[39m], label\u001b[38;5;241m=\u001b[39m\u001b[38;5;124m'\u001b[39m\u001b[38;5;124mReward\u001b[39m\u001b[38;5;124m'\u001b[39m)\n\u001b[1;32m      5\u001b[0m plt\u001b[38;5;241m.\u001b[39mplot(results[\u001b[38;5;124m'\u001b[39m\u001b[38;5;124mEpisode\u001b[39m\u001b[38;5;124m'\u001b[39m], results[\u001b[38;5;124m'\u001b[39m\u001b[38;5;124mAverage_100\u001b[39m\u001b[38;5;124m'\u001b[39m], label\u001b[38;5;241m=\u001b[39m\u001b[38;5;124m'\u001b[39m\u001b[38;5;124mAverage 100\u001b[39m\u001b[38;5;124m'\u001b[39m)\n\u001b[1;32m      6\u001b[0m plt\u001b[38;5;241m.\u001b[39mxlabel(\u001b[38;5;124m'\u001b[39m\u001b[38;5;124mEpisodes\u001b[39m\u001b[38;5;124m'\u001b[39m)\n",
      "\u001b[0;31mNameError\u001b[0m: name 'results' is not defined"
     ]
    }
   ],
   "source": [
    "# plot results\n",
    "import matplotlib.pyplot as plt\n",
    "\n",
    "plt.plot(results['Episode'], results['Reward'], label='Reward')\n",
    "plt.plot(results['Episode'], results['Average_100'], label='Average 100')\n",
    "plt.xlabel('Episodes')\n",
    "plt.ylabel('Reward')\n",
    "plt.legend()\n",
    "plt.show()\n"
   ]
  },
  {
   "cell_type": "code",
   "execution_count": null,
   "metadata": {},
   "outputs": [],
   "source": [
    "np.save(f'results/{config[\"experiment\"]}', results)"
   ]
  },
  {
   "cell_type": "code",
   "execution_count": null,
   "metadata": {},
   "outputs": [],
   "source": []
  }
 ],
 "metadata": {
  "kernelspec": {
   "display_name": "logdeep",
   "language": "python",
   "name": "python3"
  },
  "language_info": {
   "codemirror_mode": {
    "name": "ipython",
    "version": 3
   },
   "file_extension": ".py",
   "mimetype": "text/x-python",
   "name": "python",
   "nbconvert_exporter": "python",
   "pygments_lexer": "ipython3",
   "version": "3.12.2"
  }
 },
 "nbformat": 4,
 "nbformat_minor": 2
}
